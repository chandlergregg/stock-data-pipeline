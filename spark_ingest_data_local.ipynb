{
 "cells": [
  {
   "cell_type": "code",
   "execution_count": 1,
   "id": "logical-minnesota",
   "metadata": {},
   "outputs": [],
   "source": [
    "from pyspark.sql import SparkSession\n",
    "from pyspark.sql.types import StructType, StructField, DateType, \\\n",
    "    StringType, TimestampType, DecimalType, IntegerType\n",
    "from parsers import parse_line, parse_csv, parse_json\n",
    "import glob\n",
    "\n",
    "spark = SparkSession.builder.master(\"local[*]\").appName('Data ingest').getOrCreate()"
   ]
  },
  {
   "cell_type": "code",
   "execution_count": 2,
   "id": "liberal-collector",
   "metadata": {},
   "outputs": [],
   "source": [
    "# Load all files matching \"part-*\" at same time\n",
    "filenames = glob.glob(\"**/part-*\", recursive=True)\n",
    "filename_string = \",\".join(filenames)\n",
    "\n",
    "# Ingest raw and parse\n",
    "raw = spark.sparkContext.textFile(filename_string)\n",
    "parsed = raw.map(lambda line: parse_line(line))\n",
    "\n",
    "# Establish common event schema\n",
    "schema = StructType([ \\\n",
    "    StructField('trade_dt', DateType(), True), \\\n",
    "    StructField('rec_type', StringType(), True), \\\n",
    "    StructField('symbol', StringType(), True), \\\n",
    "    StructField('exchange', StringType(), True), \\\n",
    "    StructField('event_tm', TimestampType(), True), \\\n",
    "    StructField('event_seq_nb', IntegerType(), True), \\\n",
    "    StructField('arrival_tm', TimestampType(), True), \\\n",
    "    StructField('trade_pr', DecimalType(17,14), True), \\\n",
    "    StructField('bid_pr', DecimalType(17,14), True), \\\n",
    "    StructField('bid_size', IntegerType(), True), \\\n",
    "    StructField('ask_pr', DecimalType(17,14), True), \\\n",
    "    StructField('ask_size', IntegerType(), True), \\\n",
    "    StructField('partition', StringType(), True) \\\n",
    "])      \n",
    "\n",
    "# Create dataframe with parsed data and schema\n",
    "df = spark.createDataFrame(parsed, schema)"
   ]
  },
  {
   "cell_type": "code",
   "execution_count": 3,
   "id": "returning-hearing",
   "metadata": {},
   "outputs": [
    {
     "name": "stdout",
     "output_type": "stream",
     "text": [
      "+----------+--------+------+--------+--------------------+------------+-------------------+-----------------+-----------------+--------+-----------------+--------+---------+\n",
      "|  trade_dt|rec_type|symbol|exchange|            event_tm|event_seq_nb|         arrival_tm|         trade_pr|           bid_pr|bid_size|           ask_pr|ask_size|partition|\n",
      "+----------+--------+------+--------+--------------------+------------+-------------------+-----------------+-----------------+--------+-----------------+--------+---------+\n",
      "|2020-08-06|       Q|  SYMA|  NASDAQ|2020-08-06 09:38:...|           1|2020-08-06 09:30:00|             null|78.13370587077013|     100|79.82516338248990|     100|        Q|\n",
      "|2020-08-06|       Q|  SYMA|  NASDAQ|2020-08-06 09:46:...|           2|2020-08-06 09:30:00|             null|76.52304470696788|     100|76.57240785476783|     100|        Q|\n",
      "|2020-08-06|       Q|  SYMA|  NASDAQ|2020-08-06 09:52:...|           3|2020-08-06 09:30:00|             null|78.74535582037817|     100|79.09279949812425|     100|        Q|\n",
      "|2020-08-06|       Q|  SYMA|  NASDAQ|2020-08-06 09:58:...|           4|2020-08-06 09:30:00|             null|75.61362753973539|     100|76.94977735069746|     100|        Q|\n",
      "|2020-08-06|       Q|  SYMA|  NASDAQ|2020-08-06 10:07:...|           5|2020-08-06 09:30:00|             null|77.45084535147971|     100|78.72533317224415|     100|        Q|\n",
      "|2020-08-06|       Q|  SYMA|  NASDAQ|2020-08-06 10:15:...|           6|2020-08-06 09:30:00|             null|79.29842150722847|     100|81.07191719039838|     100|        Q|\n",
      "|2020-08-06|       Q|  SYMA|  NASDAQ|2020-08-06 10:22:...|           7|2020-08-06 09:30:00|             null|77.76145052111623|     100|79.24523536261668|     100|        Q|\n",
      "|2020-08-06|       Q|  SYMA|  NASDAQ|2020-08-06 10:29:...|           8|2020-08-06 09:30:00|             null|75.60113362661400|     100|76.95535394403952|     100|        Q|\n",
      "|2020-08-06|       Q|  SYMA|  NASDAQ|2020-08-06 10:35:...|           9|2020-08-06 09:30:00|             null|76.30004631539111|     100|77.61870682753302|     100|        Q|\n",
      "|2020-08-06|       T|  SYMA|  NASDAQ|2020-08-06 10:42:...|          10|2020-08-06 09:30:00|78.93245610745132|             null|    null|             null|    null|        T|\n",
      "+----------+--------+------+--------+--------------------+------------+-------------------+-----------------+-----------------+--------+-----------------+--------+---------+\n",
      "only showing top 10 rows\n",
      "\n"
     ]
    }
   ],
   "source": [
    "df.show(10)"
   ]
  },
  {
   "cell_type": "code",
   "execution_count": 4,
   "id": "mature-somalia",
   "metadata": {},
   "outputs": [],
   "source": [
    "df.write.partitionBy(\"partition\").mode(\"overwrite\").parquet(\"ingest_data\")"
   ]
  }
 ],
 "metadata": {
  "kernelspec": {
   "display_name": "Python 3",
   "language": "python",
   "name": "python3"
  },
  "language_info": {
   "codemirror_mode": {
    "name": "ipython",
    "version": 3
   },
   "file_extension": ".py",
   "mimetype": "text/x-python",
   "name": "python",
   "nbconvert_exporter": "python",
   "pygments_lexer": "ipython3",
   "version": "3.8.3"
  }
 },
 "nbformat": 4,
 "nbformat_minor": 5
}
