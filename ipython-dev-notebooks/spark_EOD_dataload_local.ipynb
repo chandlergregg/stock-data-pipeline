{
 "cells": [
  {
   "cell_type": "code",
   "execution_count": 3,
   "id": "norman-stress",
   "metadata": {},
   "outputs": [],
   "source": [
    "from pyspark.sql import SparkSession\n",
    "\n",
    "spark = SparkSession.builder.getOrCreate()"
   ]
  },
  {
   "cell_type": "code",
   "execution_count": 6,
   "id": "mental-stanley",
   "metadata": {},
   "outputs": [],
   "source": [
    "from configreader import ConfigReader\n",
    "\n",
    "reader = ConfigReader(\"config.cfg\", \"azure-storage\")\n",
    "config = reader.get_config()\n",
    "\n",
    "# Get Azure storage info from config\n",
    "storage_acct_name = config[\"account_name\"]\n",
    "storage_acct_access_key = config[\"access_key\"]\n",
    "storage_container = config[\"container_name\"]\n",
    "mount_root = config[\"mount_root\"]\n",
    "\n",
    "\n",
    "# Set Spark Azure storage account and key\n",
    "storage_acct_key_str = f\"fs.azure.account.key.{storage_acct_name}.blob.core.windows.net\"\n",
    "spark.conf.set(storage_acct_key_str, storage_acct_access_key)\n",
    "\n",
    "# Set base Spark filepath for container\n",
    "container_base_path = f\"​wasbs://{storage_container}@{storage_acct_name}.blob.core.windows.net\"\n",
    "mount_base_path = f\"{mount_root}/{storage_container}\"\n",
    "\n",
    "input_path = f\"{mount_base_path}/ingested-data\""
   ]
  },
  {
   "cell_type": "code",
   "execution_count": 7,
   "metadata": {},
   "outputs": [
    {
     "output_type": "stream",
     "name": "stdout",
     "text": [
      "root\n |-- trade_dt: date (nullable = true)\n |-- rec_type: string (nullable = true)\n |-- symbol: string (nullable = true)\n |-- exchange: string (nullable = true)\n |-- event_tm: timestamp (nullable = true)\n |-- event_seq_nb: integer (nullable = true)\n |-- arrival_tm: timestamp (nullable = true)\n |-- trade_pr: decimal(17,14) (nullable = true)\n |-- bid_pr: decimal(17,14) (nullable = true)\n |-- bid_size: integer (nullable = true)\n |-- ask_pr: decimal(17,14) (nullable = true)\n |-- ask_size: integer (nullable = true)\n |-- partition: string (nullable = true)\n\n"
     ]
    },
    {
     "output_type": "execute_result",
     "data": {
      "text/plain": [
       "1200"
      ]
     },
     "metadata": {},
     "execution_count": 7
    }
   ],
   "source": [
    "common_df = spark.read.parquet(input_path)\n",
    "common_df = common_df.filter(common_df[\"partition\"] != 'B')\n",
    "# trade_common = spark.read.parquet(\"ingest_data/partition=T\")\n",
    "common_df.printSchema()\n",
    "common_df.count()"
   ]
  },
  {
   "cell_type": "code",
   "execution_count": 3,
   "id": "fancy-malaysia",
   "metadata": {},
   "outputs": [
    {
     "output_type": "stream",
     "name": "stdout",
     "text": [
      "+----------+------+--------+--------------------+------------+-------------------+--------+\n|  trade_dt|symbol|exchange|            event_tm|event_seq_nb|         arrival_tm|trade_pr|\n+----------+------+--------+--------------------+------------+-------------------+--------+\n|2020-08-06|  SYMA|  NASDAQ|2020-08-06 09:38:...|           1|2020-08-06 09:30:00|    null|\n|2020-08-06|  SYMA|  NASDAQ|2020-08-06 09:46:...|           2|2020-08-06 09:30:00|    null|\n|2020-08-06|  SYMA|  NASDAQ|2020-08-06 09:52:...|           3|2020-08-06 09:30:00|    null|\n|2020-08-06|  SYMA|  NASDAQ|2020-08-06 09:58:...|           4|2020-08-06 09:30:00|    null|\n|2020-08-06|  SYMA|  NASDAQ|2020-08-06 10:07:...|           5|2020-08-06 09:30:00|    null|\n|2020-08-06|  SYMA|  NASDAQ|2020-08-06 10:15:...|           6|2020-08-06 09:30:00|    null|\n|2020-08-06|  SYMA|  NASDAQ|2020-08-06 10:22:...|           7|2020-08-06 09:30:00|    null|\n|2020-08-06|  SYMA|  NASDAQ|2020-08-06 10:29:...|           8|2020-08-06 09:30:00|    null|\n|2020-08-06|  SYMA|  NASDAQ|2020-08-06 10:35:...|           9|2020-08-06 09:30:00|    null|\n|2020-08-06|  SYMA|  NASDAQ|2020-08-06 10:50:...|          11|2020-08-06 09:30:00|    null|\n+----------+------+--------+--------------------+------------+-------------------+--------+\nonly showing top 10 rows\n\n"
     ]
    }
   ],
   "source": [
    "trade = common_df.select(\"trade_dt\", \"symbol\", \"exchange\", \"event_tm\", \\\n",
    "                            \"event_seq_nb\", \"arrival_tm\", \"trade_pr\")\n",
    "trade.show(5)"
   ]
  },
  {
   "cell_type": "code",
   "execution_count": 32,
   "id": "quick-springer",
   "metadata": {},
   "outputs": [],
   "source": [
    "common_df.createOrReplaceTempView('data')"
   ]
  },
  {
   "source": [
    "row_ranked_data = spark.sql(\"\"\"\n",
    "    SELECT \n",
    "        *\n",
    "        , ROW_NUMBER() over (\n",
    "            PARTITION BY trade_dt, rec_type, symbol, exchange, event_tm, event_seq_nb \n",
    "            ORDER BY arrival_tm desc) as rn\n",
    "    FROM data\n",
    "\"\"\")\n",
    "\n",
    "row_ranked_data.createOrReplaceTempView('row_ranked_data')\n",
    "row_ranked_data.show(5)"
   ],
   "cell_type": "code",
   "metadata": {
    "scrolled": true
   },
   "execution_count": 33,
   "outputs": [
    {
     "output_type": "stream",
     "name": "stdout",
     "text": [
      "+----------+--------+------+--------+--------------------+------------+-------------------+--------+------------------+--------+------------------+--------+---------+---+\n|  trade_dt|rec_type|symbol|exchange|            event_tm|event_seq_nb|         arrival_tm|trade_pr|            bid_pr|bid_size|            ask_pr|ask_size|partition| rn|\n+----------+--------+------+--------+--------------------+------------+-------------------+--------+------------------+--------+------------------+--------+---------+---+\n|2020-08-05|       Q|  SYMA|  NASDAQ|2020-08-05 11:34:...|          17|2020-08-05 09:30:00|    null| 78.06235033524703|     100| 78.36705025855920|     100|        Q|  1|\n|2020-08-05|       Q|  SYMA|    NYSE|2020-08-05 14:16:...|          39|2020-08-05 09:30:00|    null| 74.63142350491319|     100| 75.82283182627648|     100|        Q|  1|\n|2020-08-05|       Q|  SYMB|  NASDAQ|2020-08-05 11:22:...|          16|2020-08-05 09:30:00|    null| 33.62173563866898|     100| 35.16696898182639|     100|        Q|  1|\n|2020-08-05|       Q|  SYMC|  NASDAQ|2020-08-05 13:30:...|          32|2020-08-05 09:30:00|    null|159.16041207554113|     100|160.29256847294408|     100|        Q|  1|\n|2020-08-06|       Q|  SYMB|  NASDAQ|2020-08-06 14:07:...|          39|2020-08-06 09:30:00|    null| 34.26784891715548|     100| 35.17462757119266|     100|        Q|  1|\n+----------+--------+------+--------+--------------------+------------+-------------------+--------+------------------+--------+------------------+--------+---------+---+\nonly showing top 5 rows\n\n"
     ]
    }
   ]
  },
  {
   "cell_type": "code",
   "execution_count": 34,
   "id": "numerous-shaft",
   "metadata": {},
   "outputs": [
    {
     "output_type": "stream",
     "name": "stdout",
     "text": [
      "+----------+--------+------+--------+--------------------+------------+-------------------+--------+------------------+--------+------------------+--------+---------+\n|  trade_dt|rec_type|symbol|exchange|            event_tm|event_seq_nb|         arrival_tm|trade_pr|            bid_pr|bid_size|            ask_pr|ask_size|partition|\n+----------+--------+------+--------+--------------------+------------+-------------------+--------+------------------+--------+------------------+--------+---------+\n|2020-08-05|       Q|  SYMA|  NASDAQ|2020-08-05 11:34:...|          17|2020-08-05 09:30:00|    null| 78.06235033524703|     100| 78.36705025855920|     100|        Q|\n|2020-08-05|       Q|  SYMA|    NYSE|2020-08-05 14:16:...|          39|2020-08-05 09:30:00|    null| 74.63142350491319|     100| 75.82283182627648|     100|        Q|\n|2020-08-05|       Q|  SYMB|  NASDAQ|2020-08-05 11:22:...|          16|2020-08-05 09:30:00|    null| 33.62173563866898|     100| 35.16696898182639|     100|        Q|\n|2020-08-05|       Q|  SYMC|  NASDAQ|2020-08-05 13:30:...|          32|2020-08-05 09:30:00|    null|159.16041207554113|     100|160.29256847294408|     100|        Q|\n|2020-08-06|       Q|  SYMB|  NASDAQ|2020-08-06 14:07:...|          39|2020-08-06 09:30:00|    null| 34.26784891715548|     100| 35.17462757119266|     100|        Q|\n+----------+--------+------+--------+--------------------+------------+-------------------+--------+------------------+--------+------------------+--------+---------+\nonly showing top 5 rows\n\n"
     ]
    }
   ],
   "source": [
    "deduped_df = spark.sql(\"\"\"\n",
    "    SELECT\n",
    "        trade_dt\n",
    "        , rec_type\n",
    "        , symbol\n",
    "        , exchange\n",
    "        , event_tm\n",
    "        , event_seq_nb\n",
    "        , arrival_tm\n",
    "        , trade_pr\n",
    "        , bid_pr\n",
    "        , bid_size\n",
    "        , ask_pr\n",
    "        , ask_size\n",
    "        , partition\n",
    "    FROM row_ranked_data\n",
    "    WHERE rn = 1\n",
    "\"\"\")\n",
    "deduped_df.count()\n",
    "deduped_df.show(5)\n",
    "deduped_df.createOrReplaceTempView('deduped_data')"
   ]
  },
  {
   "source": [
    "trade_df = spark.sql(\"\"\"\n",
    "   SELECT\n",
    "        trade_dt\n",
    "        , rec_type\n",
    "        , symbol\n",
    "        , exchange\n",
    "        , event_tm\n",
    "        , event_seq_nb\n",
    "        , arrival_tm\n",
    "        , trade_pr\n",
    "        , partition\n",
    "    FROM deduped_data\n",
    "    WHERE rec_type = 'T'\n",
    "\"\"\") \n",
    "quote_df = spark.sql(\"\"\"\n",
    "    SELECT\n",
    "        trade_dt\n",
    "        , rec_type\n",
    "        , symbol\n",
    "        , exchange\n",
    "        , event_tm\n",
    "        , event_seq_nb\n",
    "        , arrival_tm\n",
    "        , bid_pr\n",
    "        , bid_size\n",
    "        , ask_pr\n",
    "        , ask_size\n",
    "        , partition\n",
    "    FROM deduped_data\n",
    "    WHERE rec_type = 'Q'\n",
    "\"\"\")\n",
    "\n",
    "trade_df.show(5)\n",
    "quote_df.show(5)"
   ],
   "cell_type": "code",
   "metadata": {},
   "execution_count": 13,
   "outputs": [
    {
     "output_type": "stream",
     "name": "stdout",
     "text": [
      "+----------+--------+------+--------+--------------------+------------+-------------------+------------------+\n",
      "|  trade_dt|rec_type|symbol|exchange|            event_tm|event_seq_nb|         arrival_tm|          trade_pr|\n",
      "+----------+--------+------+--------+--------------------+------------+-------------------+------------------+\n",
      "|2020-08-06|       T|  SYMC|  NASDAQ|2020-08-06 20:09:...|          90|2020-08-06 09:30:00|160.98419316231528|\n",
      "|2020-08-05|       T|  SYMB|  NASDAQ|2020-08-05 10:40:...|          10|2020-08-05 09:30:00| 32.15344380416123|\n",
      "|2020-08-05|       T|  SYMB|    NYSE|2020-08-05 13:10:...|          30|2020-08-05 09:30:00| 34.18391410021153|\n",
      "|2020-08-05|       T|  SYMA|    NYSE|2020-08-05 14:24:...|          40|2020-08-05 09:30:00| 78.43095407886027|\n",
      "|2020-08-05|       T|  SYMB|    NYSE|2020-08-05 12:02:...|          20|2020-08-05 09:30:00| 33.17828008517566|\n",
      "+----------+--------+------+--------+--------------------+------------+-------------------+------------------+\n",
      "only showing top 5 rows\n",
      "\n",
      "+----------+--------+------+--------+--------------------+------------+-------------------+------------------+--------+------------------+--------+\n",
      "|  trade_dt|rec_type|symbol|exchange|            event_tm|event_seq_nb|         arrival_tm|            bid_pr|bid_size|            ask_pr|ask_size|\n",
      "+----------+--------+------+--------+--------------------+------------+-------------------+------------------+--------+------------------+--------+\n",
      "|2020-08-05|       Q|  SYMA|  NASDAQ|2020-08-05 11:34:...|          17|2020-08-05 09:30:00| 78.06235033524703|     100| 78.36705025855920|     100|\n",
      "|2020-08-05|       Q|  SYMA|    NYSE|2020-08-05 14:16:...|          39|2020-08-05 09:30:00| 74.63142350491319|     100| 75.82283182627648|     100|\n",
      "|2020-08-05|       Q|  SYMB|  NASDAQ|2020-08-05 11:22:...|          16|2020-08-05 09:30:00| 33.62173563866898|     100| 35.16696898182639|     100|\n",
      "|2020-08-05|       Q|  SYMC|  NASDAQ|2020-08-05 13:30:...|          32|2020-08-05 09:30:00|159.16041207554113|     100|160.29256847294408|     100|\n",
      "|2020-08-06|       Q|  SYMB|  NASDAQ|2020-08-06 14:07:...|          39|2020-08-06 09:30:00| 34.26784891715548|     100| 35.17462757119266|     100|\n",
      "+----------+--------+------+--------+--------------------+------------+-------------------+------------------+--------+------------------+--------+\n",
      "only showing top 5 rows\n",
      "\n"
     ]
    }
   ]
  },
  {
   "cell_type": "code",
   "execution_count": 35,
   "metadata": {},
   "outputs": [],
   "source": [
    "# Write data partitioned by trade_dt and coalesced to 4 partitions per record type\n",
    "trade_df.coalesce(4).write.partitionBy(\"trade_dt\").mode(\"overwrite\").parquet(\"EOD-load/trade/\")\n",
    "quote_df.coalesce(4).write.partitionBy(\"trade_dt\").mode(\"overwrite\").parquet(\"EOD-load/quote/\")"
   ]
  },
  {
   "cell_type": "code",
   "execution_count": null,
   "metadata": {},
   "outputs": [],
   "source": []
  }
 ],
 "metadata": {
  "kernelspec": {
   "name": "python383jvsc74a57bd0b864b21089efa8a8f8a08da0ec03f302a60c71bbe391f9e0fcc8371babeb154c",
   "display_name": "Python 3.8.3 64-bit ('stock-data-pipeline-J1IgMxpH': pipenv)"
  },
  "language_info": {
   "codemirror_mode": {
    "name": "ipython",
    "version": 3
   },
   "file_extension": ".py",
   "mimetype": "text/x-python",
   "name": "python",
   "nbconvert_exporter": "python",
   "pygments_lexer": "ipython3",
   "version": "3.8.3"
  }
 },
 "nbformat": 4,
 "nbformat_minor": 5
}