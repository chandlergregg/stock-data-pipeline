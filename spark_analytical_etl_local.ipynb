{
 "metadata": {
  "language_info": {
   "codemirror_mode": {
    "name": "ipython",
    "version": 3
   },
   "file_extension": ".py",
   "mimetype": "text/x-python",
   "name": "python",
   "nbconvert_exporter": "python",
   "pygments_lexer": "ipython3",
   "version": "3.8.3-final"
  },
  "orig_nbformat": 2,
  "kernelspec": {
   "name": "python3",
   "display_name": "Python 3.8.3 64-bit ('stock-data-pipeline': pipenv)",
   "metadata": {
    "interpreter": {
     "hash": "b864b21089efa8a8f8a08da0ec03f302a60c71bbe391f9e0fcc8371babeb154c"
    }
   }
  }
 },
 "nbformat": 4,
 "nbformat_minor": 2,
 "cells": [
  {
   "cell_type": "code",
   "execution_count": 1,
   "metadata": {},
   "outputs": [],
   "source": [
    "# Import pyspark and datetime\n",
    "from pyspark.sql import SparkSession\n",
    "from datetime import date, datetime, timedelta\n",
    "\n",
    "# Build spark session\n",
    "spark = SparkSession.builder.master('local[*]').appName('Analytical ETL').getOrCreate()"
   ]
  },
  {
   "cell_type": "code",
   "execution_count": 2,
   "metadata": {},
   "outputs": [],
   "source": [
    "# Set current date, previous date\n",
    "date_str = '2020-08-06'\n",
    "curr_date = datetime.strptime(date_str, '%Y-%m-%d')\n",
    "prev_date = curr_date - timedelta(days = 1)\n",
    "\n",
    "# Read trades for current day, previous day\n",
    "trade_fpath = f'EOD-load/trade/'\n",
    "trade_df = spark.read.parquet(trade_fpath)\n",
    "trade_df_curr = trade_df.filter(trade_df[\"trade_dt\"] == curr_date)\n",
    "trade_df_prev = trade_df.filter(trade_df[\"trade_dt\"] == prev_date)\n",
    "\n",
    "# Read quotes for current day\n",
    "quote_fpath = f'EOD-load/quote/'\n",
    "quote_df = spark.read.parquet(quote_fpath)\n",
    "quote_df_curr = quote_df.filter(quote_df[\"trade_dt\"] == curr_date)"
   ]
  },
  {
   "cell_type": "code",
   "execution_count": 3,
   "metadata": {},
   "outputs": [
    {
     "output_type": "stream",
     "name": "stdout",
     "text": [
      "+--------+------+--------+--------------------+------------+-------------------+------------------+----------+\n|rec_type|symbol|exchange|            event_tm|event_seq_nb|         arrival_tm|          trade_pr|  trade_dt|\n+--------+------+--------+--------------------+------------+-------------------+------------------+----------+\n|       T|  SYMA|    NYSE|2020-08-06 14:27:...|          40|2020-08-06 09:30:00| 77.11551864232810|2020-08-06|\n|       T|  SYMB|  NASDAQ|2020-08-06 12:01:...|          20|2020-08-06 09:30:00| 32.47082290604803|2020-08-06|\n|       T|  SYMA|    NYSE|2020-08-06 18:14:...|          70|2020-08-06 09:30:00| 78.23471404145394|2020-08-06|\n|       T|  SYMC|  NASDAQ|2020-08-06 17:51:...|          70|2020-08-06 09:30:00|161.16013914653334|2020-08-06|\n|       T|  SYMC|    NYSE|2020-08-06 16:24:...|          60|2020-08-06 09:30:00|161.56712679946747|2020-08-06|\n+--------+------+--------+--------------------+------------+-------------------+------------------+----------+\nonly showing top 5 rows\n\n"
     ]
    },
    {
     "output_type": "execute_result",
     "data": {
      "text/plain": [
       "60"
      ]
     },
     "metadata": {},
     "execution_count": 3
    }
   ],
   "source": [
    "# Show sample of trades and count\n",
    "trade_df_curr.show(5)\n",
    "trade_df_curr.count()\n"
   ]
  },
  {
   "cell_type": "code",
   "execution_count": 4,
   "metadata": {},
   "outputs": [
    {
     "output_type": "stream",
     "name": "stdout",
     "text": [
      "+--------+------+--------+--------------------+------------+-------------------+------------------+----------+\n|rec_type|symbol|exchange|            event_tm|event_seq_nb|         arrival_tm|          trade_pr|  trade_dt|\n+--------+------+--------+--------------------+------------+-------------------+------------------+----------+\n|       T|  SYMA|    NYSE|2020-08-05 20:21:...|          90|2020-08-05 09:30:00| 74.60467162401571|2020-08-05|\n|       T|  SYMC|    NYSE|2020-08-05 10:44:...|          10|2020-08-05 09:30:00|160.87872222739200|2020-08-05|\n|       T|  SYMC|  NASDAQ|2020-08-05 20:33:...|          90|2020-08-05 09:30:00|156.85586370481641|2020-08-05|\n|       T|  SYMA|    NYSE|2020-08-05 10:37:...|          10|2020-08-05 09:30:00| 79.19488165597565|2020-08-05|\n|       T|  SYMC|  NASDAQ|2020-08-05 14:36:...|          40|2020-08-05 09:30:00|158.63352054377958|2020-08-05|\n+--------+------+--------+--------------------+------------+-------------------+------------------+----------+\nonly showing top 5 rows\n\n"
     ]
    },
    {
     "output_type": "execute_result",
     "data": {
      "text/plain": [
       "60"
      ]
     },
     "metadata": {},
     "execution_count": 4
    }
   ],
   "source": [
    "# Show sample of trades and count\n",
    "trade_df_prev.show(5)\n",
    "trade_df_prev.count()"
   ]
  },
  {
   "cell_type": "code",
   "execution_count": 5,
   "metadata": {},
   "outputs": [
    {
     "output_type": "stream",
     "name": "stdout",
     "text": [
      "+--------+------+--------+--------------------+------------+-------------------+-----------------+--------+-----------------+--------+----------+\n|rec_type|symbol|exchange|            event_tm|event_seq_nb|         arrival_tm|           bid_pr|bid_size|           ask_pr|ask_size|  trade_dt|\n+--------+------+--------+--------------------+------------+-------------------+-----------------+--------+-----------------+--------+----------+\n|       Q|  SYMA|  NASDAQ|2020-08-06 12:28:...|          24|2020-08-06 09:30:00|77.86493182539250|     100|79.70623502555300|     100|2020-08-06|\n|       Q|  SYMA|  NASDAQ|2020-08-06 13:16:...|          31|2020-08-06 09:30:00|76.76463842224466|     100|78.40281762917324|     100|2020-08-06|\n|       Q|  SYMB|    NYSE|2020-08-06 13:26:...|          32|2020-08-06 09:30:00|34.63300051365432|     100|36.43463023060998|     100|2020-08-06|\n|       Q|  SYMA|  NASDAQ|2020-08-06 15:53:...|          52|2020-08-06 09:30:00|75.00893558576169|     100|76.78429801840223|     100|2020-08-06|\n|       Q|  SYMA|    NYSE|2020-08-06 20:31:...|          88|2020-08-06 09:30:00|78.22653075350881|     100|79.01990654511440|     100|2020-08-06|\n+--------+------+--------+--------------------+------------+-------------------+-----------------+--------+-----------------+--------+----------+\nonly showing top 5 rows\n\n"
     ]
    },
    {
     "output_type": "execute_result",
     "data": {
      "text/plain": [
       "540"
      ]
     },
     "metadata": {},
     "execution_count": 5
    }
   ],
   "source": [
    "# Show sample of quotes and count\n",
    "quote_df_curr.show(5)\n",
    "quote_df_curr.count()"
   ]
  },
  {
   "cell_type": "code",
   "execution_count": 6,
   "metadata": {},
   "outputs": [],
   "source": [
    "# Create temp views for Spark SQL queries\n",
    "trade_df_curr.createOrReplaceTempView(\"trades_curr\")\n",
    "trade_df_prev.createOrReplaceTempView(\"trades_prev\")\n",
    "quote_df_curr.createOrReplaceTempView(\"quotes_curr\")"
   ]
  },
  {
   "cell_type": "code",
   "execution_count": 7,
   "metadata": {},
   "outputs": [
    {
     "output_type": "stream",
     "name": "stdout",
     "text": [
      "+------+--------+--------------------+------------+------------------+--------------------+\n|symbol|exchange|            event_tm|event_seq_nb|          trade_pr|    mov_avg_trade_pr|\n+------+--------+--------------------+------------+------------------+--------------------+\n|  SYMA|  NASDAQ|2020-08-06 10:42:...|          10| 78.93245610745132|78.93245610745132...|\n|  SYMC|    NYSE|2020-08-06 10:42:...|          10|157.26690601777602|157.2669060177760...|\n|  SYMC|  NASDAQ|2020-08-06 10:44:...|          10|158.81964792146815|158.8196479214681...|\n|  SYMB|    NYSE|2020-08-06 10:45:...|          10| 33.85934124362505|33.85934124362505...|\n|  SYMB|  NASDAQ|2020-08-06 10:47:...|          10| 32.27114286138679|32.27114286138679...|\n|  SYMA|    NYSE|2020-08-06 10:49:...|          10| 74.49377354690710|74.49377354690710...|\n|  SYMC|    NYSE|2020-08-06 11:52:...|          20|160.15278938513183|160.1527893851318...|\n|  SYMC|  NASDAQ|2020-08-06 11:54:...|          20|160.77865685239459|160.7786568523945...|\n|  SYMA|    NYSE|2020-08-06 12:00:...|          20| 76.16119459402981|76.16119459402981...|\n|  SYMA|  NASDAQ|2020-08-06 12:00:...|          20| 77.09670488777135|77.09670488777135...|\n|  SYMB|  NASDAQ|2020-08-06 12:01:...|          20| 32.47082290604803|32.47082290604803...|\n|  SYMB|    NYSE|2020-08-06 12:01:...|          20| 32.92885999370572|32.92885999370572...|\n|  SYMC|    NYSE|2020-08-06 13:01:...|          30|158.06445001940594|158.0644500194059...|\n|  SYMB|  NASDAQ|2020-08-06 13:04:...|          30| 36.69706933320747|36.69706933320747...|\n|  SYMC|  NASDAQ|2020-08-06 13:07:...|          30|160.12585632143004|160.1258563214300...|\n|  SYMA|  NASDAQ|2020-08-06 13:09:...|          30| 78.31461997164219|78.31461997164219...|\n|  SYMA|    NYSE|2020-08-06 13:11:...|          30| 76.89963550257767|76.89963550257767...|\n|  SYMB|    NYSE|2020-08-06 13:13:...|          30| 33.68609345741924|33.68609345741924...|\n|  SYMB|  NASDAQ|2020-08-06 14:15:...|          40| 31.89243056421873|31.89243056421873...|\n|  SYMC|  NASDAQ|2020-08-06 14:15:...|          40|157.14030060208995|157.1403006020899...|\n|  SYMC|    NYSE|2020-08-06 14:15:...|          40|161.47708052000078|161.4770805200007...|\n|  SYMA|  NASDAQ|2020-08-06 14:27:...|          40| 75.84401002785360|75.84401002785360...|\n|  SYMA|    NYSE|2020-08-06 14:27:...|          40| 77.11551864232810|77.11551864232810...|\n|  SYMB|    NYSE|2020-08-06 14:29:...|          40| 35.07167733717264|35.07167733717264...|\n|  SYMC|    NYSE|2020-08-06 15:18:...|          50|158.36231140669180|158.3623114066918...|\n|  SYMB|  NASDAQ|2020-08-06 15:20:...|          50| 33.07911818259868|33.07911818259868...|\n|  SYMC|  NASDAQ|2020-08-06 15:30:...|          50|160.83137080914821|160.8313708091482...|\n|  SYMA|  NASDAQ|2020-08-06 15:39:...|          50| 77.62613181984351|77.62613181984351...|\n|  SYMA|    NYSE|2020-08-06 15:39:...|          50| 76.37442161362104|76.37442161362104...|\n|  SYMB|    NYSE|2020-08-06 15:46:...|          50| 34.83484084123948|34.83484084123948...|\n|  SYMC|    NYSE|2020-08-06 16:24:...|          60|161.56712679946747|161.5671267994674...|\n|  SYMB|  NASDAQ|2020-08-06 16:25:...|          60| 34.92868178237027|34.92868178237027...|\n|  SYMA|  NASDAQ|2020-08-06 16:43:...|          60| 77.57371021517118|77.57371021517118...|\n|  SYMC|  NASDAQ|2020-08-06 16:45:...|          60|159.01698935505777|159.0169893550577...|\n|  SYMB|    NYSE|2020-08-06 16:57:...|          60| 33.31802086224371|33.31802086224371...|\n|  SYMA|    NYSE|2020-08-06 16:58:...|          60| 78.32363638620622|78.32363638620622...|\n|  SYMC|    NYSE|2020-08-06 17:37:...|          70|161.36531368674980|161.3653136867498...|\n|  SYMB|  NASDAQ|2020-08-06 17:38:...|          70| 35.85649605639833|35.85649605639833...|\n|  SYMC|  NASDAQ|2020-08-06 17:51:...|          70|161.16013914653334|161.1601391465333...|\n|  SYMA|  NASDAQ|2020-08-06 18:01:...|          70| 76.97746831240718|76.97746831240718...|\n|  SYMB|    NYSE|2020-08-06 18:06:...|          70| 33.56583414688106|33.56583414688106...|\n|  SYMA|    NYSE|2020-08-06 18:14:...|          70| 78.23471404145394|78.23471404145394...|\n|  SYMB|  NASDAQ|2020-08-06 18:51:...|          80| 32.23191252456517|32.23191252456517...|\n|  SYMC|  NASDAQ|2020-08-06 18:59:...|          80|159.06814835568579|159.0681483556857...|\n|  SYMC|    NYSE|2020-08-06 19:00:...|          80|159.14771024735430|159.1477102473543...|\n|  SYMA|  NASDAQ|2020-08-06 19:09:...|          80| 78.62378928250436|78.62378928250436...|\n|  SYMB|    NYSE|2020-08-06 19:21:...|          80| 33.10891951344721|33.10891951344721...|\n|  SYMA|    NYSE|2020-08-06 19:28:...|          80| 76.52898141486219|76.52898141486219...|\n|  SYMB|  NASDAQ|2020-08-06 20:07:...|          90| 36.24291233215219|36.24291233215219...|\n|  SYMC|  NASDAQ|2020-08-06 20:09:...|          90|160.98419316231528|160.9841931623152...|\n|  SYMC|    NYSE|2020-08-06 20:14:...|          90|157.62836162691207|157.6283616269120...|\n|  SYMA|  NASDAQ|2020-08-06 20:23:...|          90| 77.81713801155259|77.81713801155259...|\n|  SYMB|    NYSE|2020-08-06 20:36:...|          90| 32.64328578542826|32.64328578542826...|\n|  SYMA|    NYSE|2020-08-06 20:49:...|          90| 75.71484703599852|75.71484703599852...|\n|  SYMB|  NASDAQ|2020-08-06 21:10:...|         100| 35.74626943912378|35.74626943912378...|\n|  SYMC|  NASDAQ|2020-08-06 21:17:...|         100|156.83673366195976|156.8367336619597...|\n|  SYMC|    NYSE|2020-08-06 21:32:...|         100|159.38221783349758|159.3822178334975...|\n|  SYMA|  NASDAQ|2020-08-06 21:33:...|         100| 77.43719185388957|77.43719185388957...|\n|  SYMB|    NYSE|2020-08-06 21:46:...|         100| 35.92474523433230|35.92474523433230...|\n|  SYMA|    NYSE|2020-08-06 22:00:...|         100| 76.30847130527823|76.30847130527823...|\n+------+--------+--------------------+------------+------------------+--------------------+\n\n"
     ]
    }
   ],
   "source": [
    "# Calculate trailing 30 minute moving avg trade price and update trade_df\n",
    "trade_df_curr_mv_avg = spark.sql(\"\"\"\n",
    "    SELECT\n",
    "        a.symbol\n",
    "        , a.exchange\n",
    "        , a.event_tm\n",
    "        , a.event_seq_nb\n",
    "        , a.trade_pr\n",
    "        , AVG(b.trade_pr) as mov_avg_trade_pr\n",
    "    FROM trades_curr a\n",
    "    LEFT JOIN trades_curr b\n",
    "        ON a.symbol = b.symbol\n",
    "        AND a.exchange = b.exchange\n",
    "        AND b.event_tm BETWEEN (a.event_tm - INTERVAL 30 MINUTES) AND a.event_tm\n",
    "    GROUP BY 1,2,3,4,5\n",
    "    ORDER BY event_tm ASC\n",
    "\"\"\")\n",
    "trade_df_curr_mv_avg.createOrReplaceTempView(\"trades_curr_mv_avg\")\n",
    "trade_df_curr_mv_avg.show(100)"
   ]
  },
  {
   "cell_type": "code",
   "execution_count": 8,
   "metadata": {},
   "outputs": [
    {
     "output_type": "stream",
     "name": "stdout",
     "text": [
      "+------+--------+------------------+\n|symbol|exchange|          close_pr|\n+------+--------+------------------+\n|  SYMC|    NYSE|160.61949262766208|\n|  SYMB|    NYSE| 33.95628841162795|\n|  SYMC|  NASDAQ|158.02032283488671|\n|  SYMA|  NASDAQ| 77.24675705545206|\n|  SYMA|    NYSE| 77.78611024375384|\n|  SYMB|  NASDAQ| 35.53726086490686|\n+------+--------+------------------+\n\n"
     ]
    }
   ],
   "source": [
    "close_pr_df = spark.sql(\"\"\"\n",
    "    WITH ranked_cte as (\n",
    "        SELECT \n",
    "            symbol\n",
    "            , exchange\n",
    "            , trade_pr\n",
    "            , ROW_NUMBER() OVER (PARTITION BY symbol, exchange ORDER BY event_tm DESC) as rn\n",
    "        FROM trades_prev\n",
    "    )\n",
    "    SELECT\n",
    "        symbol\n",
    "        , exchange\n",
    "        , trade_pr as close_pr\n",
    "    FROM ranked_cte\n",
    "    WHERE rn = 1\n",
    "\"\"\")\n",
    "close_pr_df.createOrReplaceTempView(\"close_pr\")\n",
    "close_pr_df.show(10)"
   ]
  },
  {
   "cell_type": "code",
   "execution_count": 9,
   "metadata": {
    "tags": []
   },
   "outputs": [
    {
     "output_type": "stream",
     "name": "stdout",
     "text": [
      "+--------+----------+------+--------+--------------------+------------+------------------+--------+------------------+--------+------------------+--------------------+---+\n|rec_type|  trade_dt|symbol|exchange|            event_tm|event_seq_nb|            bid_pr|bid_size|            ask_pr|ask_size|          trade_pr|    mov_avg_trade_pr| rn|\n+--------+----------+------+--------+--------------------+------------+------------------+--------+------------------+--------+------------------+--------------------+---+\n|       Q|2020-08-06|  SYMC|    NYSE|2020-08-06 09:37:...|           1|160.92615163863337|     100|161.74260959804047|     100|              null|                null|  1|\n|       Q|2020-08-06|  SYMC|    NYSE|2020-08-06 09:45:...|           2|161.37519866116340|     100|163.00177900709700|     100|              null|                null|  1|\n|       Q|2020-08-06|  SYMC|    NYSE|2020-08-06 09:51:...|           3|159.36830980740774|     100|159.52208902072380|     100|              null|                null|  1|\n|       Q|2020-08-06|  SYMC|    NYSE|2020-08-06 09:58:...|           4|158.18752198637640|     100|158.88346239898560|     100|              null|                null|  1|\n|       Q|2020-08-06|  SYMC|    NYSE|2020-08-06 10:04:...|           5|157.15078151235548|     100|157.97040047570640|     100|              null|                null|  1|\n|       Q|2020-08-06|  SYMC|    NYSE|2020-08-06 10:09:...|           6|157.99574179536077|     100|159.28629208919690|     100|              null|                null|  1|\n|       Q|2020-08-06|  SYMC|    NYSE|2020-08-06 10:18:...|           7|157.09470705141612|     100|158.93801108219260|     100|              null|                null|  1|\n|       Q|2020-08-06|  SYMC|    NYSE|2020-08-06 10:28:...|           8|160.75978866026549|     100|161.00616864574502|     100|              null|                null|  1|\n|       Q|2020-08-06|  SYMC|    NYSE|2020-08-06 10:34:...|           9|157.34511479971812|     100|158.47583139099333|     100|              null|                null|  1|\n|       Q|2020-08-06|  SYMC|    NYSE|2020-08-06 10:48:...|          11|158.88073824850466|     100|160.07489384012516|     100|157.26690601777602|157.2669060177760...|  1|\n+--------+----------+------+--------+--------------------+------------+------------------+--------+------------------+--------+------------------+--------------------+---+\nonly showing top 10 rows\n\n"
     ]
    }
   ],
   "source": [
    "joined_df = spark.sql(\"\"\"\n",
    "        SELECT\n",
    "            q.rec_type\n",
    "            , q.trade_dt\n",
    "            , q.symbol\n",
    "            , q.exchange\n",
    "            , q.event_tm\n",
    "            , q.event_seq_nb\n",
    "            , q.bid_pr\n",
    "            , q.bid_size\n",
    "            , q.ask_pr\n",
    "            , q.ask_size\n",
    "            , t.trade_pr\n",
    "            , t.mov_avg_trade_pr\n",
    "            , ROW_NUMBER() OVER (PARTITION BY q.symbol, q.exchange, q.event_tm ORDER BY t.event_tm DESC) as rn\n",
    "        FROM quotes_curr q\n",
    "        LEFT JOIN trades_curr_mv_avg t\n",
    "            ON q.symbol = t.symbol\n",
    "            AND q.exchange = t.exchange\n",
    "            AND t.event_tm < q.event_tm\n",
    "\"\"\")\n",
    "joined_df.createOrReplaceTempView(\"joined\")\n",
    "joined_df.show(10)"
   ]
  },
  {
   "cell_type": "code",
   "execution_count": 10,
   "metadata": {},
   "outputs": [
    {
     "output_type": "execute_result",
     "data": {
      "text/plain": [
       "540"
      ]
     },
     "metadata": {},
     "execution_count": 10
    }
   ],
   "source": [
    "final_df = spark.sql(\"\"\"\n",
    "    SELECT\n",
    "        j.trade_dt\n",
    "        , j.symbol\n",
    "        , j.exchange\n",
    "        , j.event_tm\n",
    "        , j.event_seq_nb\n",
    "        , j.bid_pr\n",
    "        , j.bid_size\n",
    "        , j.ask_pr\n",
    "        , j.ask_size\n",
    "        , j.trade_pr AS last_trade_pr\n",
    "        , j.mov_avg_trade_pr AS last_mov_avg_pr\n",
    "        , j.bid_pr - c.close_pr AS bid_pr_mv\n",
    "        , j.ask_pr - c.close_pr AS ask_pr_mv\n",
    "    FROM joined j\n",
    "    LEFT JOIN close_pr c\n",
    "        ON j.symbol = c.symbol\n",
    "        AND j.exchange = c.exchange\n",
    "    WHERE j.rn = 1\n",
    "        AND j.rec_type = 'Q'\n",
    "\"\"\")\n",
    "final_df.count()"
   ]
  },
  {
   "cell_type": "code",
   "execution_count": 11,
   "metadata": {},
   "outputs": [
    {
     "output_type": "execute_result",
     "data": {
      "text/plain": [
       "200"
      ]
     },
     "metadata": {},
     "execution_count": 11
    }
   ],
   "source": [
    "final_df.rdd.getNumPartitions()"
   ]
  },
  {
   "cell_type": "code",
   "execution_count": 12,
   "metadata": {},
   "outputs": [],
   "source": [
    "final_df.coalesce(4).write.partitionBy(\"trade_dt\").mode(\"overwrite\").parquet(\"ETL-output\")\n"
   ]
  },
  {
   "cell_type": "code",
   "execution_count": 18,
   "metadata": {},
   "outputs": [
    {
     "output_type": "stream",
     "name": "stdout",
     "text": [
      "+------+--------+------------------+\n|symbol|exchange|          close_pr|\n+------+--------+------------------+\n|  SYMA|  NASDAQ| 77.24675705545206|\n|  SYMA|    NYSE| 77.78611024375384|\n|  SYMB|  NASDAQ| 35.53726086490686|\n|  SYMB|    NYSE| 33.95628841162795|\n|  SYMC|  NASDAQ|158.02032283488671|\n|  SYMC|    NYSE|160.61949262766208|\n+------+--------+------------------+\n\n"
     ]
    }
   ],
   "source": [
    "spark.sql(\"\"\"\n",
    "    SELECT * FROM close_pr\n",
    "    WHERE symbol in ('SYMA', 'SYMB', 'SYMC')\n",
    "    ORDER BY symbol, exchange\n",
    "\"\"\").show()"
   ]
  },
  {
   "cell_type": "code",
   "execution_count": 19,
   "metadata": {},
   "outputs": [
    {
     "output_type": "stream",
     "name": "stdout",
     "text": [
      "+--------+------+--------+--------------------+------------+-------------------+-----------------+----------+\n|rec_type|symbol|exchange|            event_tm|event_seq_nb|         arrival_tm|         trade_pr|  trade_dt|\n+--------+------+--------+--------------------+------------+-------------------+-----------------+----------+\n|       T|  SYMA|  NASDAQ|2020-08-05 10:38:...|          10|2020-08-05 09:30:00|77.77570455205036|2020-08-05|\n|       T|  SYMA|  NASDAQ|2020-08-05 11:58:...|          20|2020-08-05 09:30:00|75.71522806406605|2020-08-05|\n|       T|  SYMA|  NASDAQ|2020-08-05 13:09:...|          30|2020-08-05 09:30:00|75.87925515076047|2020-08-05|\n|       T|  SYMA|  NASDAQ|2020-08-05 14:22:...|          40|2020-08-05 09:30:00|78.32471238039088|2020-08-05|\n|       T|  SYMA|  NASDAQ|2020-08-05 15:33:...|          50|2020-08-05 09:30:00|75.72601774534918|2020-08-05|\n|       T|  SYMA|  NASDAQ|2020-08-05 16:46:...|          60|2020-08-05 09:30:00|77.47948347690054|2020-08-05|\n|       T|  SYMA|  NASDAQ|2020-08-05 17:58:...|          70|2020-08-05 09:30:00|74.91233062454235|2020-08-05|\n|       T|  SYMA|  NASDAQ|2020-08-05 19:13:...|          80|2020-08-05 09:30:00|77.69287912963837|2020-08-05|\n|       T|  SYMA|  NASDAQ|2020-08-05 20:26:...|          90|2020-08-05 09:30:00|76.15560734406718|2020-08-05|\n|       T|  SYMA|  NASDAQ|2020-08-05 21:40:...|         100|2020-08-05 09:30:00|77.24675705545206|2020-08-05|\n|       T|  SYMA|    NYSE|2020-08-05 10:37:...|          10|2020-08-05 09:30:00|79.19488165597565|2020-08-05|\n|       T|  SYMA|    NYSE|2020-08-05 11:56:...|          20|2020-08-05 09:30:00|76.49092501585646|2020-08-05|\n|       T|  SYMA|    NYSE|2020-08-05 13:09:...|          30|2020-08-05 09:30:00|75.04522571305392|2020-08-05|\n|       T|  SYMA|    NYSE|2020-08-05 14:24:...|          40|2020-08-05 09:30:00|78.43095407886027|2020-08-05|\n|       T|  SYMA|    NYSE|2020-08-05 15:31:...|          50|2020-08-05 09:30:00|78.15296565214692|2020-08-05|\n|       T|  SYMA|    NYSE|2020-08-05 16:37:...|          60|2020-08-05 09:30:00|79.19017753613633|2020-08-05|\n|       T|  SYMA|    NYSE|2020-08-05 17:49:...|          70|2020-08-05 09:30:00|77.06795641858926|2020-08-05|\n|       T|  SYMA|    NYSE|2020-08-05 19:04:...|          80|2020-08-05 09:30:00|75.48433282973839|2020-08-05|\n|       T|  SYMA|    NYSE|2020-08-05 20:21:...|          90|2020-08-05 09:30:00|74.60467162401571|2020-08-05|\n|       T|  SYMA|    NYSE|2020-08-05 21:30:...|         100|2020-08-05 09:30:00|77.78611024375384|2020-08-05|\n+--------+------+--------+--------------------+------------+-------------------+-----------------+----------+\nonly showing top 20 rows\n\n"
     ]
    }
   ],
   "source": [
    "spark.sql(\"\"\"\n",
    "    SELECT * FROM trades_prev\n",
    "    WHERE symbol in ('SYMA', 'SYMB', 'SYMC')\n",
    "    ORDER BY symbol, exchange, event_tm\n",
    "\"\"\").show()"
   ]
  },
  {
   "cell_type": "code",
   "execution_count": null,
   "metadata": {},
   "outputs": [],
   "source": [
    "mov_avg_df = self.spark.sql(\"\"\"SELECT t.*,avg(t.trade_pr) OVER(PARTITION BY symbol,exchange ORDER BY event_tm DESC\n",
    "RANGE BETWEEN INTERVAL '30' MINUTES PRECEDING AND CURRENT ROW) AS moving_average\n",
    "FROM trades as t;\"\"\")"
   ]
  }
 ]
}